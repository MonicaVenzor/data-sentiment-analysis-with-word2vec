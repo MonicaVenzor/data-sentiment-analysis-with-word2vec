{
 "cells": [
  {
   "cell_type": "markdown",
   "metadata": {},
   "source": [
    "# Sentiment analysis with Word2Vec\n",
    "\n",
    "### Exercise objectives:\n",
    "- Convert words to vectors with Word2Vec\n",
    "- Use the word representation given by Word2vec to feed a RNN\n",
    "\n",
    "<hr>"
   ]
  },
  {
   "cell_type": "markdown",
   "metadata": {},
   "source": [
    "▶️ Run this cell and make sure the version of 📚 [Gensim - Word2Vec](https://radimrehurek.com/gensim/auto_examples/index.html) you are using is ≥ 4.0!"
   ]
  },
  {
   "cell_type": "code",
   "execution_count": 1,
   "metadata": {},
   "outputs": [
    {
     "name": "stdout",
     "output_type": "stream",
     "text": [
      "gensim==4.2.0\n"
     ]
    }
   ],
   "source": [
    "!pip freeze | grep gensim"
   ]
  },
  {
   "cell_type": "markdown",
   "metadata": {},
   "source": [
    "# The data\n",
    "\n",
    "\n",
    "❓ **Question** ❓ Let's first load the data. You don't have to understand what is going on in the function, it does not matter here.\n",
    "\n",
    "⚠️ **Warning** ⚠️ The `load_data` function has a `percentage_of_sentences` argument. Depending on your computer, there are chances that too many sentences will make your compute slow down, or even freeze - your RAM can overflow. For that reason, **you should start with 10% of the sentences** and see if your computer handles it. Otherwise, rerun with a lower number. \n",
    "\n",
    "⚠️ **DISCLAIMER** ⚠️ **No need to play _who has the biggest_ (RAM) !** The idea is to get to run your models quickly to prototype. Even in real life, it is recommended that you start with a subset of your data to loop and debug quickly. So increase the number only if you are into getting the best accuracy."
   ]
  },
  {
   "cell_type": "code",
   "execution_count": 2,
   "metadata": {},
   "outputs": [],
   "source": [
    "import numpy as np"
   ]
  },
  {
   "cell_type": "code",
   "execution_count": 3,
   "metadata": {},
   "outputs": [
    {
     "name": "stderr",
     "output_type": "stream",
     "text": [
      "2024-11-28 14:02:07.824620: I tensorflow/core/platform/cpu_feature_guard.cc:193] This TensorFlow binary is optimized with oneAPI Deep Neural Network Library (oneDNN) to use the following CPU instructions in performance-critical operations:  AVX2 FMA\n",
      "To enable them in other operations, rebuild TensorFlow with the appropriate compiler flags.\n",
      "2024-11-28 14:02:14.052097: W tensorflow/core/platform/cloud/google_auth_provider.cc:184] All attempts to get a Google authentication bearer token failed, returning an empty token. Retrieving token from files failed with \"NOT_FOUND: Could not locate the credentials file.\". Retrieving token from GCE failed with \"FAILED_PRECONDITION: Error executing an HTTP request: libcurl code 6 meaning 'Couldn't resolve host name', error details: Could not resolve host: metadata\".\n"
     ]
    },
    {
     "name": "stdout",
     "output_type": "stream",
     "text": [
      "\u001b[1mDownloading and preparing dataset 80.23 MiB (download: 80.23 MiB, generated: Unknown size, total: 80.23 MiB) to ~/tensorflow_datasets/imdb_reviews/plain_text/1.0.0...\u001b[0m\n"
     ]
    },
    {
     "data": {
      "application/vnd.jupyter.widget-view+json": {
       "model_id": "8bb86db8446c44db9f399ff551154d89",
       "version_major": 2,
       "version_minor": 0
      },
      "text/plain": [
       "Dl Completed...: 0 url [00:00, ? url/s]"
      ]
     },
     "metadata": {},
     "output_type": "display_data"
    },
    {
     "data": {
      "application/vnd.jupyter.widget-view+json": {
       "model_id": "007e27ac25764039b30da14eb770c10e",
       "version_major": 2,
       "version_minor": 0
      },
      "text/plain": [
       "Dl Size...: 0 MiB [00:00, ? MiB/s]"
      ]
     },
     "metadata": {},
     "output_type": "display_data"
    },
    {
     "data": {
      "application/vnd.jupyter.widget-view+json": {
       "model_id": "",
       "version_major": 2,
       "version_minor": 0
      },
      "text/plain": [
       "Generating splits...:   0%|          | 0/3 [00:00<?, ? splits/s]"
      ]
     },
     "metadata": {},
     "output_type": "display_data"
    },
    {
     "data": {
      "application/vnd.jupyter.widget-view+json": {
       "model_id": "",
       "version_major": 2,
       "version_minor": 0
      },
      "text/plain": [
       "Generating train examples...:   0%|          | 0/25000 [00:00<?, ? examples/s]"
      ]
     },
     "metadata": {},
     "output_type": "display_data"
    },
    {
     "data": {
      "application/vnd.jupyter.widget-view+json": {
       "model_id": "",
       "version_major": 2,
       "version_minor": 0
      },
      "text/plain": [
       "Shuffling ~/tensorflow_datasets/imdb_reviews/plain_text/1.0.0.incompleteWGKGDM/imdb_reviews-train.tfrecord*...…"
      ]
     },
     "metadata": {},
     "output_type": "display_data"
    },
    {
     "data": {
      "application/vnd.jupyter.widget-view+json": {
       "model_id": "",
       "version_major": 2,
       "version_minor": 0
      },
      "text/plain": [
       "Generating test examples...:   0%|          | 0/25000 [00:00<?, ? examples/s]"
      ]
     },
     "metadata": {},
     "output_type": "display_data"
    },
    {
     "data": {
      "application/vnd.jupyter.widget-view+json": {
       "model_id": "",
       "version_major": 2,
       "version_minor": 0
      },
      "text/plain": [
       "Shuffling ~/tensorflow_datasets/imdb_reviews/plain_text/1.0.0.incompleteWGKGDM/imdb_reviews-test.tfrecord*...:…"
      ]
     },
     "metadata": {},
     "output_type": "display_data"
    },
    {
     "data": {
      "application/vnd.jupyter.widget-view+json": {
       "model_id": "",
       "version_major": 2,
       "version_minor": 0
      },
      "text/plain": [
       "Generating unsupervised examples...:   0%|          | 0/50000 [00:00<?, ? examples/s]"
      ]
     },
     "metadata": {},
     "output_type": "display_data"
    },
    {
     "data": {
      "application/vnd.jupyter.widget-view+json": {
       "model_id": "",
       "version_major": 2,
       "version_minor": 0
      },
      "text/plain": [
       "Shuffling ~/tensorflow_datasets/imdb_reviews/plain_text/1.0.0.incompleteWGKGDM/imdb_reviews-unsupervised.tfrec…"
      ]
     },
     "metadata": {},
     "output_type": "display_data"
    },
    {
     "name": "stdout",
     "output_type": "stream",
     "text": [
      "\u001b[1mDataset imdb_reviews downloaded and prepared to ~/tensorflow_datasets/imdb_reviews/plain_text/1.0.0. Subsequent calls will reuse this data.\u001b[0m\n"
     ]
    },
    {
     "name": "stderr",
     "output_type": "stream",
     "text": [
      "2024-11-28 14:02:42.004212: I tensorflow/core/platform/cpu_feature_guard.cc:193] This TensorFlow binary is optimized with oneAPI Deep Neural Network Library (oneDNN) to use the following CPU instructions in performance-critical operations:  AVX2 FMA\n",
      "To enable them in other operations, rebuild TensorFlow with the appropriate compiler flags.\n"
     ]
    }
   ],
   "source": [
    "###########################################\n",
    "### Just run this cell to load the data ###\n",
    "###########################################\n",
    "\n",
    "import tensorflow_datasets as tfds\n",
    "from tensorflow.keras.preprocessing.text import text_to_word_sequence\n",
    "\n",
    "def load_data(percentage_of_sentences=None):\n",
    "    train_data, test_data = tfds.load(name=\"imdb_reviews\", split=[\"train\", \"test\"], batch_size=-1, as_supervised=True)\n",
    "\n",
    "    train_sentences, y_train = tfds.as_numpy(train_data)\n",
    "    test_sentences, y_test = tfds.as_numpy(test_data)\n",
    "    \n",
    "    # Take only a given percentage of the entire data\n",
    "    if percentage_of_sentences is not None:\n",
    "        assert(percentage_of_sentences> 0 and percentage_of_sentences<=100)\n",
    "        \n",
    "        len_train = int(percentage_of_sentences/100*len(train_sentences))\n",
    "        train_sentences, y_train = train_sentences[:len_train], y_train[:len_train]\n",
    "  \n",
    "        len_test = int(percentage_of_sentences/100*len(test_sentences))\n",
    "        test_sentences, y_test = test_sentences[:len_test], y_test[:len_test]\n",
    "    \n",
    "    X_train = [text_to_word_sequence(_.decode(\"utf-8\")) for _ in train_sentences]\n",
    "    X_test = [text_to_word_sequence(_.decode(\"utf-8\")) for _ in test_sentences]\n",
    "    \n",
    "    return X_train, y_train, X_test, y_test\n",
    "\n",
    "X_train, y_train, X_test, y_test = load_data(percentage_of_sentences=10)"
   ]
  },
  {
   "cell_type": "markdown",
   "metadata": {},
   "source": [
    "In the previous exercise, you trained a Word2vec representation and converted all your training sentences in order to feed them into a RNN, as shown in the first step of this Figure: \n",
    "\n",
    "<img src=\"word2vec_representation.png\" width=\"400px\" />\n",
    "\n",
    "\n",
    "\n",
    "❓ **Question** ❓ Here, let's re-do exactly what you have done in the previous exercise. First, train a word2vec model (with the arguments that you want) on your training sentence. Store it into the `word2vec` variable."
   ]
  },
  {
   "cell_type": "code",
   "execution_count": 4,
   "metadata": {
    "tags": [
     "challengify"
    ]
   },
   "outputs": [],
   "source": [
    "from gensim.models import Word2Vec"
   ]
  },
  {
   "cell_type": "code",
   "execution_count": 5,
   "metadata": {},
   "outputs": [],
   "source": [
    "word2vec = Word2Vec(sentences=X_train,\n",
    "                    vector_size=50,\n",
    "                    window=5,\n",
    "                    min_count=1) "
   ]
  },
  {
   "cell_type": "markdown",
   "metadata": {},
   "source": [
    "Let's reuse the functions of the previous exercise to convert your training and test data into something you can feed into a RNN.\n",
    "\n",
    "❓ **Question** ❓ Read the following function to be sure you understand what is going on, and run it."
   ]
  },
  {
   "cell_type": "code",
   "execution_count": 6,
   "metadata": {},
   "outputs": [],
   "source": [
    "from tensorflow.keras.preprocessing.sequence import pad_sequences\n",
    "import numpy as np\n",
    "\n",
    "# Function to convert a sentence (list of words) into a matrix representing the words in the embedding space\n",
    "def embed_sentence(word2vec, sentence):\n",
    "    embedded_sentence = []\n",
    "    for word in sentence:\n",
    "        if word in word2vec.wv:\n",
    "            embedded_sentence.append(word2vec.wv[word])\n",
    "        \n",
    "    return np.array(embedded_sentence)\n",
    "\n",
    "# Function that converts a list of sentences into a list of matrices\n",
    "def embedding(word2vec, sentences):\n",
    "    embed = []\n",
    "    \n",
    "    for sentence in sentences:\n",
    "        embedded_sentence = embed_sentence(word2vec, sentence)\n",
    "        embed.append(embedded_sentence)\n",
    "        \n",
    "    return embed\n",
    "\n",
    "# Embed the training and test sentences\n",
    "X_train_embed = embedding(word2vec, X_train)\n",
    "X_test_embed = embedding(word2vec, X_test)\n",
    "\n",
    "\n",
    "# Pad the training and test embedded sentences\n",
    "X_train_pad = pad_sequences(X_train_embed, dtype='float32', padding='post', maxlen=200)\n",
    "X_test_pad = pad_sequences(X_test_embed, dtype='float32', padding='post', maxlen=200)"
   ]
  },
  {
   "cell_type": "code",
   "execution_count": 7,
   "metadata": {
    "collapsed": true,
    "jupyter": {
     "outputs_hidden": true
    },
    "tags": []
   },
   "outputs": [
    {
     "data": {
      "text/plain": [
       "(array([[[-2.06619596e+00,  1.88450545e-01,  2.66865164e-01, ...,\n",
       "           1.03391063e+00,  2.89795429e-01,  3.20043743e-01],\n",
       "         [-7.64735937e-02, -8.60516205e-02, -1.01234066e+00, ...,\n",
       "          -6.41835527e-03,  3.87255549e-01, -9.07036424e-01],\n",
       "         [-1.14496028e+00,  2.07276970e-01,  8.98535967e-01, ...,\n",
       "          -5.57932317e-01,  3.19506764e-01,  2.39436555e+00],\n",
       "         ...,\n",
       "         [ 0.00000000e+00,  0.00000000e+00,  0.00000000e+00, ...,\n",
       "           0.00000000e+00,  0.00000000e+00,  0.00000000e+00],\n",
       "         [ 0.00000000e+00,  0.00000000e+00,  0.00000000e+00, ...,\n",
       "           0.00000000e+00,  0.00000000e+00,  0.00000000e+00],\n",
       "         [ 0.00000000e+00,  0.00000000e+00,  0.00000000e+00, ...,\n",
       "           0.00000000e+00,  0.00000000e+00,  0.00000000e+00]],\n",
       " \n",
       "        [[-3.52093124e+00, -2.15976164e-02, -2.22630143e+00, ...,\n",
       "           8.86069238e-01,  1.36235285e+00, -1.53892159e+00],\n",
       "         [-5.53387284e-01, -2.41613436e+00,  1.42338693e+00, ...,\n",
       "          -1.88252270e+00,  2.41760388e-01, -1.83340698e-01],\n",
       "         [-2.48476887e+00, -2.32570505e+00, -6.41018331e-01, ...,\n",
       "           2.14193389e-01,  8.44200030e-02, -2.83461094e-01],\n",
       "         ...,\n",
       "         [ 0.00000000e+00,  0.00000000e+00,  0.00000000e+00, ...,\n",
       "           0.00000000e+00,  0.00000000e+00,  0.00000000e+00],\n",
       "         [ 0.00000000e+00,  0.00000000e+00,  0.00000000e+00, ...,\n",
       "           0.00000000e+00,  0.00000000e+00,  0.00000000e+00],\n",
       "         [ 0.00000000e+00,  0.00000000e+00,  0.00000000e+00, ...,\n",
       "           0.00000000e+00,  0.00000000e+00,  0.00000000e+00]],\n",
       " \n",
       "        [[-2.21162755e-02, -6.46619797e-02,  1.61000714e-01, ...,\n",
       "          -2.61706561e-01,  3.04600988e-02,  1.74690157e-01],\n",
       "         [ 3.26263695e-03, -8.15688353e-03,  6.68601319e-02, ...,\n",
       "          -1.74163952e-01, -8.14557076e-03,  3.35143507e-02],\n",
       "         [-5.80963612e-01, -4.96694714e-01,  1.38961184e+00, ...,\n",
       "           1.11608684e+00,  6.03056490e-01,  2.35549235e+00],\n",
       "         ...,\n",
       "         [ 0.00000000e+00,  0.00000000e+00,  0.00000000e+00, ...,\n",
       "           0.00000000e+00,  0.00000000e+00,  0.00000000e+00],\n",
       "         [ 0.00000000e+00,  0.00000000e+00,  0.00000000e+00, ...,\n",
       "           0.00000000e+00,  0.00000000e+00,  0.00000000e+00],\n",
       "         [ 0.00000000e+00,  0.00000000e+00,  0.00000000e+00, ...,\n",
       "           0.00000000e+00,  0.00000000e+00,  0.00000000e+00]],\n",
       " \n",
       "        ...,\n",
       " \n",
       "        [[-1.22105145e+00, -6.83806002e-01,  8.17448497e-01, ...,\n",
       "          -3.32838506e-01,  7.97784448e-01,  7.23552704e-01],\n",
       "         [ 3.51988316e-01, -3.63249592e-02, -2.03615761e+00, ...,\n",
       "          -7.88858652e-01,  1.31633627e+00, -1.25824296e+00],\n",
       "         [-1.23573530e+00, -4.44939166e-01, -9.85032499e-01, ...,\n",
       "           1.64479047e-01,  1.41394627e+00,  7.36500323e-01],\n",
       "         ...,\n",
       "         [ 0.00000000e+00,  0.00000000e+00,  0.00000000e+00, ...,\n",
       "           0.00000000e+00,  0.00000000e+00,  0.00000000e+00],\n",
       "         [ 0.00000000e+00,  0.00000000e+00,  0.00000000e+00, ...,\n",
       "           0.00000000e+00,  0.00000000e+00,  0.00000000e+00],\n",
       "         [ 0.00000000e+00,  0.00000000e+00,  0.00000000e+00, ...,\n",
       "           0.00000000e+00,  0.00000000e+00,  0.00000000e+00]],\n",
       " \n",
       "        [[-1.84637010e-01, -1.25602853e+00, -5.15778124e-01, ...,\n",
       "           2.46454954e-01,  5.04991591e-01,  1.06610692e+00],\n",
       "         [-5.80963612e-01, -4.96694714e-01,  1.38961184e+00, ...,\n",
       "           1.11608684e+00,  6.03056490e-01,  2.35549235e+00],\n",
       "         [-2.26635411e-01, -1.77494332e-01, -1.30443815e-02, ...,\n",
       "          -3.95913154e-01,  2.65034944e-01,  3.49622637e-01],\n",
       "         ...,\n",
       "         [ 0.00000000e+00,  0.00000000e+00,  0.00000000e+00, ...,\n",
       "           0.00000000e+00,  0.00000000e+00,  0.00000000e+00],\n",
       "         [ 0.00000000e+00,  0.00000000e+00,  0.00000000e+00, ...,\n",
       "           0.00000000e+00,  0.00000000e+00,  0.00000000e+00],\n",
       "         [ 0.00000000e+00,  0.00000000e+00,  0.00000000e+00, ...,\n",
       "           0.00000000e+00,  0.00000000e+00,  0.00000000e+00]],\n",
       " \n",
       "        [[-2.06619596e+00,  1.88450545e-01,  2.66865164e-01, ...,\n",
       "           1.03391063e+00,  2.89795429e-01,  3.20043743e-01],\n",
       "         [-1.14020061e+00, -8.28942418e-01, -1.63774896e+00, ...,\n",
       "           8.51663709e-01,  1.59606540e+00, -1.65427268e-01],\n",
       "         [ 3.51988316e-01, -3.63249592e-02, -2.03615761e+00, ...,\n",
       "          -7.88858652e-01,  1.31633627e+00, -1.25824296e+00],\n",
       "         ...,\n",
       "         [ 0.00000000e+00,  0.00000000e+00,  0.00000000e+00, ...,\n",
       "           0.00000000e+00,  0.00000000e+00,  0.00000000e+00],\n",
       "         [ 0.00000000e+00,  0.00000000e+00,  0.00000000e+00, ...,\n",
       "           0.00000000e+00,  0.00000000e+00,  0.00000000e+00],\n",
       "         [ 0.00000000e+00,  0.00000000e+00,  0.00000000e+00, ...,\n",
       "           0.00000000e+00,  0.00000000e+00,  0.00000000e+00]]],\n",
       "       dtype=float32),\n",
       " array([[[-1.22105145e+00, -6.83806002e-01,  8.17448497e-01, ...,\n",
       "          -3.32838506e-01,  7.97784448e-01,  7.23552704e-01],\n",
       "         [ 1.43799114e+00, -8.07187557e-01,  5.62032819e-01, ...,\n",
       "          -2.04427314e+00,  7.08195388e-01, -6.37648106e-01],\n",
       "         [ 3.50566804e-01, -2.16633391e+00,  6.57884777e-02, ...,\n",
       "           5.30372262e-01,  4.02136087e-01, -2.04171747e-01],\n",
       "         ...,\n",
       "         [ 0.00000000e+00,  0.00000000e+00,  0.00000000e+00, ...,\n",
       "           0.00000000e+00,  0.00000000e+00,  0.00000000e+00],\n",
       "         [ 0.00000000e+00,  0.00000000e+00,  0.00000000e+00, ...,\n",
       "           0.00000000e+00,  0.00000000e+00,  0.00000000e+00],\n",
       "         [ 0.00000000e+00,  0.00000000e+00,  0.00000000e+00, ...,\n",
       "           0.00000000e+00,  0.00000000e+00,  0.00000000e+00]],\n",
       " \n",
       "        [[-2.15417016e-02, -2.98402160e-02,  3.42444107e-02, ...,\n",
       "          -1.11519799e-01,  3.05361096e-02,  3.96289155e-02],\n",
       "         [ 3.51988316e-01, -3.63249592e-02, -2.03615761e+00, ...,\n",
       "          -7.88858652e-01,  1.31633627e+00, -1.25824296e+00],\n",
       "         [-1.23573530e+00, -4.44939166e-01, -9.85032499e-01, ...,\n",
       "           1.64479047e-01,  1.41394627e+00,  7.36500323e-01],\n",
       "         ...,\n",
       "         [-3.46166338e-03,  8.43044817e-02,  3.06566268e-01, ...,\n",
       "          -5.28319836e-01,  1.96378484e-01,  2.39851683e-01],\n",
       "         [-1.98262446e-02,  1.84097290e-02,  8.26807395e-02, ...,\n",
       "          -9.04522985e-02,  9.41591859e-02,  6.45111874e-02],\n",
       "         [ 1.61319077e-02, -4.97221202e-02,  2.97984555e-02, ...,\n",
       "          -6.44121021e-02, -1.22294109e-02,  6.92316855e-04]],\n",
       " \n",
       "        [[-3.38344812e-01, -3.45875561e-01,  1.93252861e-01, ...,\n",
       "          -1.08148172e-01,  2.46100381e-01,  4.52633828e-01],\n",
       "         [-1.06484659e-01, -7.86722377e-02,  1.19926542e-01, ...,\n",
       "          -4.13035005e-01, -2.82502118e-02,  1.02905482e-01],\n",
       "         [-6.82978705e-02,  5.86769730e-03,  2.12594513e-02, ...,\n",
       "          -1.68970883e-01,  2.75248867e-02,  6.10010065e-02],\n",
       "         ...,\n",
       "         [-1.14020061e+00, -8.28942418e-01, -1.63774896e+00, ...,\n",
       "           8.51663709e-01,  1.59606540e+00, -1.65427268e-01],\n",
       "         [-1.27593294e-01,  3.17077003e-02,  3.37307721e-01, ...,\n",
       "          -8.09099972e-01,  1.49649546e-01,  2.90775985e-01],\n",
       "         [-1.07206516e-01, -7.97266737e-02,  1.69586048e-01, ...,\n",
       "          -3.96615088e-01, -6.17735237e-02,  2.08716616e-01]],\n",
       " \n",
       "        ...,\n",
       " \n",
       "        [[-5.73942125e-01,  1.13265790e-01,  3.07486802e-02, ...,\n",
       "          -2.89038539e-01,  1.08119883e-01,  3.36335897e-01],\n",
       "         [ 3.46707672e-01, -6.32732511e-02, -3.37287098e-01, ...,\n",
       "          -1.77117273e-01,  1.61507297e+00,  1.19866037e+00],\n",
       "         [-2.06619596e+00,  1.88450545e-01,  2.66865164e-01, ...,\n",
       "           1.03391063e+00,  2.89795429e-01,  3.20043743e-01],\n",
       "         ...,\n",
       "         [ 0.00000000e+00,  0.00000000e+00,  0.00000000e+00, ...,\n",
       "           0.00000000e+00,  0.00000000e+00,  0.00000000e+00],\n",
       "         [ 0.00000000e+00,  0.00000000e+00,  0.00000000e+00, ...,\n",
       "           0.00000000e+00,  0.00000000e+00,  0.00000000e+00],\n",
       "         [ 0.00000000e+00,  0.00000000e+00,  0.00000000e+00, ...,\n",
       "           0.00000000e+00,  0.00000000e+00,  0.00000000e+00]],\n",
       " \n",
       "        [[-4.10827070e-01, -9.62886140e-02,  2.50725955e-01, ...,\n",
       "           4.05931562e-01, -5.06690405e-02,  2.70001709e-01],\n",
       "         [-5.52006401e-02, -2.75905967e-01,  1.44229263e-01, ...,\n",
       "          -3.72887462e-01,  1.29569173e-01,  2.50529379e-01],\n",
       "         [-2.06619596e+00,  1.88450545e-01,  2.66865164e-01, ...,\n",
       "           1.03391063e+00,  2.89795429e-01,  3.20043743e-01],\n",
       "         ...,\n",
       "         [-1.20704085e-01, -1.57549772e-02,  5.96333109e-02, ...,\n",
       "          -2.87131786e-01,  1.91437418e-03,  1.28252804e-01],\n",
       "         [ 1.24335244e-01, -1.50065973e-01,  1.02640617e+00, ...,\n",
       "          -8.26951563e-01,  2.18129098e-01,  2.00597078e-01],\n",
       "         [-1.05986828e-02, -2.04272754e-02,  7.51893874e-03, ...,\n",
       "          -2.95799831e-03,  2.08218321e-02,  1.34873148e-02]],\n",
       " \n",
       "        [[-7.65271068e-01, -1.00786798e-01,  1.87289000e-01, ...,\n",
       "          -4.35165077e-01,  3.43165636e-01,  2.00648252e-02],\n",
       "         [-5.82968235e-01, -1.32716343e-01,  3.66687357e-01, ...,\n",
       "          -3.44313622e-01,  3.08283597e-01, -1.71630114e-01],\n",
       "         [-2.87152268e-02, -8.88104271e-03,  3.76473248e-01, ...,\n",
       "          -3.97481292e-01,  4.37901080e-01,  4.11098391e-01],\n",
       "         ...,\n",
       "         [ 0.00000000e+00,  0.00000000e+00,  0.00000000e+00, ...,\n",
       "           0.00000000e+00,  0.00000000e+00,  0.00000000e+00],\n",
       "         [ 0.00000000e+00,  0.00000000e+00,  0.00000000e+00, ...,\n",
       "           0.00000000e+00,  0.00000000e+00,  0.00000000e+00],\n",
       "         [ 0.00000000e+00,  0.00000000e+00,  0.00000000e+00, ...,\n",
       "           0.00000000e+00,  0.00000000e+00,  0.00000000e+00]]],\n",
       "       dtype=float32))"
      ]
     },
     "execution_count": 7,
     "metadata": {},
     "output_type": "execute_result"
    }
   ],
   "source": [
    "X_train_pad, X_test_pad"
   ]
  },
  {
   "cell_type": "markdown",
   "metadata": {},
   "source": [
    "☝️ To be sure that it worked, let's check the following for `X_train_pad` and `X_test_pad`:\n",
    "- they are numpy arrays\n",
    "- they are 3-dimensional\n",
    "- the last dimension is of the size of your word2vec embedding space (you can get it with `word2vec.wv.vector_size`\n",
    "- the first dimension is of the size of your `X_train` and `X_test`\n",
    "\n",
    "✅ **Good Practice** ✅ Such tests are quite important! Not only in this exercise, but in real-life applications. It prevents from finding errors too late and from letting them propagate through the entire notebook."
   ]
  },
  {
   "cell_type": "code",
   "execution_count": 8,
   "metadata": {},
   "outputs": [],
   "source": [
    "# TEST ME\n",
    "for X in [X_train_pad, X_test_pad]:\n",
    "    assert type(X) == np.ndarray\n",
    "    assert X.shape[-1] == word2vec.wv.vector_size\n",
    "\n",
    "\n",
    "assert X_train_pad.shape[0] == len(X_train)\n",
    "assert X_test_pad.shape[0] == len(X_test)"
   ]
  },
  {
   "cell_type": "markdown",
   "metadata": {},
   "source": [
    "# Baseline model\n",
    "\n",
    "It is always good to have a very simple model to test your own model against - to be sure you are doing something better than a very simple algorithm.\n",
    "\n",
    "❓ **Question** ❓ What is your baseline accuracy? In this case, your baseline can be to predict the label that is the most present in `y_train` (of course, if the dataset is balanced, the baseline accuracy is 1/n where n is the number of classes - 2 here)."
   ]
  },
  {
   "cell_type": "code",
   "execution_count": 10,
   "metadata": {},
   "outputs": [],
   "source": [
    "from collections import Counter"
   ]
  },
  {
   "cell_type": "code",
   "execution_count": 11,
   "metadata": {
    "tags": [
     "challengify"
    ]
   },
   "outputs": [
    {
     "data": {
      "text/plain": [
       "Counter({0: 1265, 1: 1235})"
      ]
     },
     "execution_count": 11,
     "metadata": {},
     "output_type": "execute_result"
    }
   ],
   "source": [
    "label_counts = Counter(y_train)\n",
    "label_counts"
   ]
  },
  {
   "cell_type": "code",
   "execution_count": 15,
   "metadata": {},
   "outputs": [
    {
     "data": {
      "text/plain": [
       "2500"
      ]
     },
     "execution_count": 15,
     "metadata": {},
     "output_type": "execute_result"
    }
   ],
   "source": [
    "len(y_train)"
   ]
  },
  {
   "cell_type": "code",
   "execution_count": 14,
   "metadata": {},
   "outputs": [
    {
     "data": {
      "text/plain": [
       "0.506"
      ]
     },
     "execution_count": 14,
     "metadata": {},
     "output_type": "execute_result"
    }
   ],
   "source": [
    "baseline_accuracy = max(label_counts.values()) / len(y_train)\n",
    "baseline_accuracy"
   ]
  },
  {
   "cell_type": "markdown",
   "metadata": {},
   "source": [
    "La etiqueta más frecuente en y_train representa el 50.6% del total de las muestras. Hay que superar este valor con el modelo para demostrar que está aprendiendo patrones significativos en los datos."
   ]
  },
  {
   "cell_type": "markdown",
   "metadata": {},
   "source": [
    "# The model\n",
    "\n",
    "❓ **Question** ❓ Write a RNN with the following layers:\n",
    "- a `Masking` layer\n",
    "- a `LSTM` with 20 units and `tanh` activation function\n",
    "- a `Dense` with 10 units\n",
    "- an output layer that depends on your task\n",
    "\n",
    "Then, compile your model (we advise you to use the `rmsprop` as the optimizer - at least to begin with)"
   ]
  },
  {
   "cell_type": "code",
   "execution_count": 16,
   "metadata": {},
   "outputs": [],
   "source": [
    "from tensorflow.keras.models import Sequential\n",
    "from tensorflow.keras.layers import Masking, LSTM, Dense"
   ]
  },
  {
   "cell_type": "code",
   "execution_count": 17,
   "metadata": {
    "tags": [
     "challengify"
    ]
   },
   "outputs": [],
   "source": [
    "model = Sequential([\n",
    "    # Masking layer\n",
    "    Masking(mask_value=0.0, input_shape=(None, 50)),\n",
    "    LSTM(20, activation='tanh'),\n",
    "    Dense(10, activation='relu'),\n",
    "    Dense(1, activation='sigmoid')\n",
    "])\n",
    "\n",
    "model.compile(optimizer='rmsprop',\n",
    "              loss='binary_crossentropy',\n",
    "              metrics=['accuracy'])\n"
   ]
  },
  {
   "cell_type": "code",
   "execution_count": 18,
   "metadata": {},
   "outputs": [
    {
     "name": "stdout",
     "output_type": "stream",
     "text": [
      "Model: \"sequential\"\n",
      "_________________________________________________________________\n",
      " Layer (type)                Output Shape              Param #   \n",
      "=================================================================\n",
      " masking (Masking)           (None, None, 50)          0         \n",
      "                                                                 \n",
      " lstm (LSTM)                 (None, 20)                5680      \n",
      "                                                                 \n",
      " dense (Dense)               (None, 10)                210       \n",
      "                                                                 \n",
      " dense_1 (Dense)             (None, 1)                 11        \n",
      "                                                                 \n",
      "=================================================================\n",
      "Total params: 5,901\n",
      "Trainable params: 5,901\n",
      "Non-trainable params: 0\n",
      "_________________________________________________________________\n"
     ]
    }
   ],
   "source": [
    "model.summary()"
   ]
  },
  {
   "cell_type": "markdown",
   "metadata": {},
   "source": [
    "❓ **Question** ❓ Fit the model on your embedded and padded data - do not forget the early stopping criterion.\n",
    "\n",
    "❗ **Remark** ❗ Your accuracy will greatly depend on your training corpus. Here just make sure that your performance is above the baseline model (which should be the case even if you loaded only 20% of the initial IMDB data)."
   ]
  },
  {
   "cell_type": "code",
   "execution_count": 19,
   "metadata": {
    "tags": [
     "challengify"
    ]
   },
   "outputs": [],
   "source": [
    "from tensorflow.keras.callbacks import EarlyStopping"
   ]
  },
  {
   "cell_type": "code",
   "execution_count": 20,
   "metadata": {},
   "outputs": [],
   "source": [
    "es = EarlyStopping(\n",
    "    monitor='val_loss',\n",
    "    patience=3,\n",
    "    restore_best_weights=True\n",
    ")"
   ]
  },
  {
   "cell_type": "code",
   "execution_count": 21,
   "metadata": {},
   "outputs": [
    {
     "name": "stdout",
     "output_type": "stream",
     "text": [
      "Epoch 1/20\n",
      "63/63 [==============================] - 8s 93ms/step - loss: 0.6954 - accuracy: 0.4855 - val_loss: 0.6952 - val_accuracy: 0.4820\n",
      "Epoch 2/20\n",
      "63/63 [==============================] - 4s 60ms/step - loss: 0.6873 - accuracy: 0.5420 - val_loss: 0.6826 - val_accuracy: 0.5580\n",
      "Epoch 3/20\n",
      "63/63 [==============================] - 4s 61ms/step - loss: 0.6803 - accuracy: 0.5685 - val_loss: 0.6716 - val_accuracy: 0.5880\n",
      "Epoch 4/20\n",
      "63/63 [==============================] - 4s 63ms/step - loss: 0.6722 - accuracy: 0.5825 - val_loss: 0.6541 - val_accuracy: 0.6300\n",
      "Epoch 5/20\n",
      "63/63 [==============================] - 4s 61ms/step - loss: 0.6661 - accuracy: 0.5875 - val_loss: 0.6509 - val_accuracy: 0.6380\n",
      "Epoch 6/20\n",
      "63/63 [==============================] - 4s 59ms/step - loss: 0.6602 - accuracy: 0.6060 - val_loss: 0.6463 - val_accuracy: 0.6320\n",
      "Epoch 7/20\n",
      "63/63 [==============================] - 4s 61ms/step - loss: 0.6565 - accuracy: 0.6125 - val_loss: 0.6503 - val_accuracy: 0.6320\n",
      "Epoch 8/20\n",
      "63/63 [==============================] - 4s 58ms/step - loss: 0.6428 - accuracy: 0.6375 - val_loss: 0.6435 - val_accuracy: 0.6380\n",
      "Epoch 9/20\n",
      "63/63 [==============================] - 4s 59ms/step - loss: 0.6361 - accuracy: 0.6375 - val_loss: 0.7071 - val_accuracy: 0.5800\n",
      "Epoch 10/20\n",
      "63/63 [==============================] - 5s 81ms/step - loss: 0.6244 - accuracy: 0.6585 - val_loss: 0.6364 - val_accuracy: 0.6520\n",
      "Epoch 11/20\n",
      "63/63 [==============================] - 4s 63ms/step - loss: 0.6253 - accuracy: 0.6545 - val_loss: 0.6464 - val_accuracy: 0.6140\n",
      "Epoch 12/20\n",
      "63/63 [==============================] - 4s 59ms/step - loss: 0.6213 - accuracy: 0.6510 - val_loss: 0.6259 - val_accuracy: 0.6360\n",
      "Epoch 13/20\n",
      "63/63 [==============================] - 4s 58ms/step - loss: 0.6056 - accuracy: 0.6755 - val_loss: 0.6200 - val_accuracy: 0.6620\n",
      "Epoch 14/20\n",
      "63/63 [==============================] - 4s 65ms/step - loss: 0.6095 - accuracy: 0.6655 - val_loss: 0.6190 - val_accuracy: 0.6420\n",
      "Epoch 15/20\n",
      "63/63 [==============================] - 4s 59ms/step - loss: 0.5992 - accuracy: 0.6715 - val_loss: 0.6766 - val_accuracy: 0.6340\n",
      "Epoch 16/20\n",
      "63/63 [==============================] - 4s 58ms/step - loss: 0.5952 - accuracy: 0.6890 - val_loss: 0.6096 - val_accuracy: 0.6680\n",
      "Epoch 17/20\n",
      "63/63 [==============================] - 4s 60ms/step - loss: 0.5833 - accuracy: 0.6875 - val_loss: 0.6316 - val_accuracy: 0.6760\n",
      "Epoch 18/20\n",
      "63/63 [==============================] - 5s 84ms/step - loss: 0.5830 - accuracy: 0.6945 - val_loss: 0.6234 - val_accuracy: 0.6340\n",
      "Epoch 19/20\n",
      "63/63 [==============================] - 4s 64ms/step - loss: 0.5762 - accuracy: 0.7045 - val_loss: 0.6560 - val_accuracy: 0.6400\n"
     ]
    }
   ],
   "source": [
    "history = model.fit(\n",
    "    X_train_pad, y_train,\n",
    "    validation_split=0.2,\n",
    "    epochs=20,\n",
    "    batch_size=32,\n",
    "    callbacks=[es]\n",
    ")"
   ]
  },
  {
   "cell_type": "markdown",
   "metadata": {},
   "source": [
    "❓ **Question** ❓ Evaluate your model on the test set"
   ]
  },
  {
   "cell_type": "code",
   "execution_count": 22,
   "metadata": {
    "tags": [
     "challengify"
    ]
   },
   "outputs": [
    {
     "name": "stdout",
     "output_type": "stream",
     "text": [
      "79/79 [==============================] - 1s 13ms/step - loss: 0.6486 - accuracy: 0.6452\n"
     ]
    },
    {
     "data": {
      "text/plain": [
       "(0.6486198306083679, 0.6452000141143799)"
      ]
     },
     "execution_count": 22,
     "metadata": {},
     "output_type": "execute_result"
    }
   ],
   "source": [
    "test_loss, test_accuracy = model.evaluate(X_test_pad, y_test)\n",
    "test_loss, test_accuracy"
   ]
  },
  {
   "cell_type": "markdown",
   "metadata": {},
   "source": [
    "# Trained Word2Vec - Transfer Learning\n",
    "\n",
    "Your accuracy, while above the baseline model, might be quite low. There are multiple options to improve it, as data cleaning and improving the quality of the embedding.\n",
    "\n",
    "We won't dig into data cleaning strategies here. Let's try to improve the quality of our embedding. But instead of just loading a larger corpus, why not benefiting from the embedding that others have learned? Because, the quality of an embedding, i.e. the proximity of the words, can be derived from different tasks. This is exactly what transfer learning is.\n",
    "\n",
    "\n",
    "\n",
    "❓ **Question** ❓ List all the different models available in the word2vec thanks to this: "
   ]
  },
  {
   "cell_type": "code",
   "execution_count": 23,
   "metadata": {},
   "outputs": [
    {
     "name": "stdout",
     "output_type": "stream",
     "text": [
      "['fasttext-wiki-news-subwords-300', 'conceptnet-numberbatch-17-06-300', 'word2vec-ruscorpora-300', 'word2vec-google-news-300', 'glove-wiki-gigaword-50', 'glove-wiki-gigaword-100', 'glove-wiki-gigaword-200', 'glove-wiki-gigaword-300', 'glove-twitter-25', 'glove-twitter-50', 'glove-twitter-100', 'glove-twitter-200', '__testing_word2vec-matrix-synopsis']\n"
     ]
    }
   ],
   "source": [
    "import gensim.downloader as api\n",
    "print(list(api.info()['models'].keys()))"
   ]
  },
  {
   "cell_type": "markdown",
   "metadata": {},
   "source": [
    "ℹ️ You can also find the list of the models and their size on the [`gensim-data` repository](https://github.com/RaRe-Technologies/gensim-data#models)."
   ]
  },
  {
   "cell_type": "markdown",
   "metadata": {},
   "source": [
    "❓ **Question** ❓ Load one of the pre-trained word2vec embedding spaces. \n",
    "\n",
    "You can do that with `api.load(the-model-of-your-choice)`, and store it in `word2vec_transfer`\n",
    "\n",
    "<details>\n",
    "    <summary>💡 Hint</summary>\n",
    "    \n",
    "The `glove-wiki-gigaword-50` model is a good candidate to start with as it is smaller (65 MB).\n",
    "\n",
    "</details>"
   ]
  },
  {
   "cell_type": "code",
   "execution_count": 24,
   "metadata": {
    "tags": [
     "challengify"
    ]
   },
   "outputs": [
    {
     "name": "stdout",
     "output_type": "stream",
     "text": [
      "[===============================-------------------] 63.5% 41.9/66.0MB downloaded"
     ]
    },
    {
     "name": "stderr",
     "output_type": "stream",
     "text": [
      "IOPub message rate exceeded.\n",
      "The Jupyter server will temporarily stop sending output\n",
      "to the client in order to avoid crashing it.\n",
      "To change this limit, set the config variable\n",
      "`--ServerApp.iopub_msg_rate_limit`.\n",
      "\n",
      "Current values:\n",
      "ServerApp.iopub_msg_rate_limit=1000.0 (msgs/sec)\n",
      "ServerApp.rate_limit_window=3.0 (secs)\n",
      "\n"
     ]
    },
    {
     "name": "stdout",
     "output_type": "stream",
     "text": [
      "[==================================================] 100.0% 66.0/66.0MB downloaded\n"
     ]
    }
   ],
   "source": [
    "word2vec_transfer = api.load(\"glove-wiki-gigaword-50\")"
   ]
  },
  {
   "cell_type": "markdown",
   "metadata": {},
   "source": [
    "❓ **Question** ❓ Check the size of the vocabulary, but also the size of the embedding space."
   ]
  },
  {
   "cell_type": "code",
   "execution_count": 25,
   "metadata": {
    "tags": [
     "challengify"
    ]
   },
   "outputs": [
    {
     "data": {
      "text/plain": [
       "400000"
      ]
     },
     "execution_count": 25,
     "metadata": {},
     "output_type": "execute_result"
    }
   ],
   "source": [
    "len(word2vec_transfer.key_to_index)"
   ]
  },
  {
   "cell_type": "code",
   "execution_count": 26,
   "metadata": {},
   "outputs": [
    {
     "data": {
      "text/plain": [
       "50"
      ]
     },
     "execution_count": 26,
     "metadata": {},
     "output_type": "execute_result"
    }
   ],
   "source": [
    "word2vec_transfer.vector_size"
   ]
  },
  {
   "cell_type": "markdown",
   "metadata": {},
   "source": [
    "❓ Let's embed `X_train` and `X_test`, same as in the first question where we provided the functions to do so! (There is a slight difference in the `embed_sentence_with_TF` function that we will not dig into)"
   ]
  },
  {
   "cell_type": "code",
   "execution_count": 27,
   "metadata": {},
   "outputs": [],
   "source": [
    "# Function to convert a sentence (list of words) into a matrix representing the words in the embedding space\n",
    "def embed_sentence_with_TF(word2vec, sentence):\n",
    "    embedded_sentence = []\n",
    "    for word in sentence:\n",
    "        if word in word2vec:\n",
    "            embedded_sentence.append(word2vec[word])\n",
    "        \n",
    "    return np.array(embedded_sentence)\n",
    "\n",
    "# Function that converts a list of sentences into a list of matrices\n",
    "def embedding(word2vec, sentences):\n",
    "    embed = []\n",
    "    \n",
    "    for sentence in sentences:\n",
    "        embedded_sentence = embed_sentence_with_TF(word2vec, sentence)\n",
    "        embed.append(embedded_sentence)\n",
    "        \n",
    "    return embed\n",
    "\n",
    "# Embed the training and test sentences\n",
    "X_train_embed_2 = embedding(word2vec_transfer, X_train)\n",
    "X_test_embed_2 = embedding(word2vec_transfer, X_test)"
   ]
  },
  {
   "cell_type": "markdown",
   "metadata": {},
   "source": [
    "❓ **Question** ❓  Do not forget to pad your results and store it in `X_train_pad_2` and `X_test_pad_2`."
   ]
  },
  {
   "cell_type": "code",
   "execution_count": 28,
   "metadata": {
    "tags": [
     "challengify"
    ]
   },
   "outputs": [],
   "source": [
    "from tensorflow.keras.preprocessing.sequence import pad_sequences"
   ]
  },
  {
   "cell_type": "code",
   "execution_count": 29,
   "metadata": {},
   "outputs": [
    {
     "data": {
      "text/plain": [
       "((2500, 200, 50), (2500, 200, 50))"
      ]
     },
     "execution_count": 29,
     "metadata": {},
     "output_type": "execute_result"
    }
   ],
   "source": [
    "X_train_pad_2 = pad_sequences(X_train_embed_2, dtype='float32', padding='post', maxlen=200)\n",
    "X_test_pad_2 = pad_sequences(X_test_embed_2, dtype='float32', padding='post', maxlen=200)\n",
    "X_train_pad_2.shape, X_test_pad_2.shape"
   ]
  },
  {
   "cell_type": "markdown",
   "metadata": {},
   "source": [
    "❓ **Question** ❓ Reinitialize a model and fit it on your new embedded (and padded) data!  Evaluate it on your test set and compare it to your previous accuracy.\n",
    "\n",
    "❗ **Remark** ❗ The training here could take some time. You can just compute 10 epochs (this is **not** a good practice, it is just not to wait too long) and go to the next exercise while it trains - or take a break, you probably deserve it ;)"
   ]
  },
  {
   "cell_type": "code",
   "execution_count": 30,
   "metadata": {
    "tags": [
     "challengify"
    ]
   },
   "outputs": [
    {
     "name": "stdout",
     "output_type": "stream",
     "text": [
      "Epoch 1/10\n",
      "63/63 [==============================] - 8s 78ms/step - loss: 0.6884 - accuracy: 0.5370 - val_loss: 0.6772 - val_accuracy: 0.5740\n",
      "Epoch 2/10\n",
      "63/63 [==============================] - 4s 69ms/step - loss: 0.6662 - accuracy: 0.5995 - val_loss: 0.6562 - val_accuracy: 0.6240\n",
      "Epoch 3/10\n",
      "63/63 [==============================] - 6s 95ms/step - loss: 0.6357 - accuracy: 0.6375 - val_loss: 0.6290 - val_accuracy: 0.6320\n",
      "Epoch 4/10\n",
      "63/63 [==============================] - 4s 64ms/step - loss: 0.6097 - accuracy: 0.6690 - val_loss: 0.6116 - val_accuracy: 0.6500\n",
      "Epoch 5/10\n",
      "63/63 [==============================] - 4s 64ms/step - loss: 0.5882 - accuracy: 0.6905 - val_loss: 0.5925 - val_accuracy: 0.7000\n",
      "Epoch 6/10\n",
      "63/63 [==============================] - 4s 71ms/step - loss: 0.5610 - accuracy: 0.7155 - val_loss: 0.6136 - val_accuracy: 0.6800\n",
      "Epoch 7/10\n",
      "63/63 [==============================] - 4s 61ms/step - loss: 0.5540 - accuracy: 0.7215 - val_loss: 0.5888 - val_accuracy: 0.6740\n",
      "Epoch 8/10\n",
      "63/63 [==============================] - 4s 61ms/step - loss: 0.5379 - accuracy: 0.7345 - val_loss: 0.5831 - val_accuracy: 0.6880\n",
      "Epoch 9/10\n",
      "63/63 [==============================] - 4s 62ms/step - loss: 0.5397 - accuracy: 0.7305 - val_loss: 0.5765 - val_accuracy: 0.7220\n",
      "Epoch 10/10\n",
      "63/63 [==============================] - 4s 65ms/step - loss: 0.5154 - accuracy: 0.7510 - val_loss: 0.5545 - val_accuracy: 0.7420\n"
     ]
    }
   ],
   "source": [
    "model = Sequential([\n",
    "    Masking(mask_value=0.0, input_shape=(200, 50)),  # Longitud máxima: 200, Embedding dim: 50 como el shape!\n",
    "    LSTM(20, activation='tanh'),\n",
    "    Dense(10, activation='relu'),\n",
    "    Dense(1, activation='sigmoid')\n",
    "])\n",
    "\n",
    "model.compile(optimizer='rmsprop', loss='binary_crossentropy', metrics=['accuracy'])\n",
    "\n",
    "es = EarlyStopping(monitor='val_loss', patience=3, restore_best_weights=True)\n",
    "\n",
    "history = model.fit(\n",
    "    X_train_pad_2, y_train,\n",
    "    validation_split=0.2,\n",
    "    epochs=10,\n",
    "    batch_size=32,\n",
    "    callbacks=[es]\n",
    ")"
   ]
  },
  {
   "cell_type": "code",
   "execution_count": 31,
   "metadata": {},
   "outputs": [
    {
     "name": "stdout",
     "output_type": "stream",
     "text": [
      "The accuracy evaluated on the test set is of 73.160%\n"
     ]
    }
   ],
   "source": [
    "res = model.evaluate(X_test_pad_2, y_test, verbose=0)\n",
    "\n",
    "print(f'The accuracy evaluated on the test set is of {res[1]*100:.3f}%')"
   ]
  },
  {
   "cell_type": "markdown",
   "metadata": {},
   "source": [
    "Because your new word2vec has been trained on a large corpus, it has a representation for many many words! Way more than with your small dataset, especially as you discarded words that were not present more than a given number of times in the train set. For that reason, you have way more embedded words in your train and test set, which makes each iteration longer than previously"
   ]
  },
  {
   "cell_type": "markdown",
   "metadata": {},
   "source": [
    "### El modelo clasificó correctamente el 73.16% de las muestras del conjunto de prueba como 0 o 1. Esto indica que el modelo es razonablemente bueno para analisis de sentimientos, podemos jugar con mas parametros como: \n",
    "\n",
    "LSTM, mas capas\n",
    " \n",
    "batch size u otros optimizadores como adam\n",
    " \n",
    "normalizar el texto\n",
    " \n",
    "utilizar otros modelos preentrenados"
   ]
  }
 ],
 "metadata": {
  "kernelspec": {
   "display_name": "Python 3 (ipykernel)",
   "language": "python",
   "name": "python3"
  },
  "language_info": {
   "codemirror_mode": {
    "name": "ipython",
    "version": 3
   },
   "file_extension": ".py",
   "mimetype": "text/x-python",
   "name": "python",
   "nbconvert_exporter": "python",
   "pygments_lexer": "ipython3",
   "version": "3.10.6"
  }
 },
 "nbformat": 4,
 "nbformat_minor": 4
}
